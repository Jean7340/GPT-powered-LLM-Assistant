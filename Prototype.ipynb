{
 "cells": [
  {
   "cell_type": "code",
   "execution_count": null,
   "metadata": {},
   "outputs": [],
   "source": [
    "!pip install openai\n",
    "!pip install python-dotenv"
   ]
  },
  {
   "cell_type": "code",
   "execution_count": null,
   "metadata": {},
   "outputs": [],
   "source": [
    "from openai import OpenAI\n",
    "import json\n",
    "from datetime import datetime\n",
    "import os\n",
    "from getpass import getpass"
   ]
  },
  {
   "cell_type": "code",
   "execution_count": null,
   "metadata": {},
   "outputs": [],
   "source": [
    "class PolicyGenerator:\n",
    "    def __init__(self, api_key=None):\n",
    "        \"\"\"Initialize with optional API key\"\"\"\n",
    "        try:\n",
    "            # Try to get API key from environment variable first\n",
    "            self.api_key = api_key or os.getenv(\"OPENAI_API_KEY\")\n",
    "            if not self.api_key:\n",
    "                raise ValueError(\"API key not provided\")\n",
    "            \n",
    "            self.client = OpenAI(api_key=self.api_key)\n",
    "            self.policy_archive = []\n",
    "            print(\"API connection initialized successfully\")\n",
    "        except Exception as e:\n",
    "            print(f\"Initialization error: {str(e)}\")\n",
    "            raise\n",
    "\n",
    "    def generate_policy_brief(self, topic, key_points, target_audience, tone=\"professional\", word_limit=500):\n",
    "        \"\"\"Generate a comprehensive policy brief\"\"\"\n",
    "        try:\n",
    "            prompt = f\"\"\"Create a {tone}-toned policy brief about {topic} for {target_audience}...\"\"\"  # (rest of prompt same as before)\n",
    "            \n",
    "            response = self.client.chat.completions.create(\n",
    "                model=\"gpt-3.5-turbo\",\n",
    "                messages=[\n",
    "                    {\"role\": \"system\", \"content\": \"You are an expert policy analyst...\"},\n",
    "                    {\"role\": \"user\", \"content\": prompt}\n",
    "                ],\n",
    "                temperature=0.7\n",
    "            )\n",
    "            \n",
    "            brief = response.choices[0].message.content\n",
    "            self._archive_output(\"policy_brief\", topic, brief)\n",
    "            return brief\n",
    "        except Exception as e:\n",
    "            print(f\"Error generating policy brief: {str(e)}\")\n",
    "            return None\n",
    "\n",
    "    # ... (rest of your class methods remain the same)\n"
   ]
  },
  {
   "cell_type": "code",
   "execution_count": null,
   "metadata": {},
   "outputs": [],
   "source": [
    "def get_api_key():\n",
    "    \"\"\"Secure way to get API key\"\"\"\n",
    "    print(\"Please enter your OpenAI API key\")\n",
    "    print(\"(Will not be displayed on screen)\")\n",
    "    return getpass(\"API key: \")"
   ]
  },
  {
   "cell_type": "code",
   "execution_count": null,
   "metadata": {},
   "outputs": [],
   "source": [
    "def main():\n",
    "    try:\n",
    "        # Get API key securely\n",
    "        api_key = get_api_key()\n",
    "        \n",
    "        # Initialize generator\n",
    "        policy_ai = PolicyGenerator(api_key=api_key)\n",
    "        \n",
    "        # Example usage\n",
    "        brief = policy_ai.generate_policy_brief(\n",
    "            topic=\"renewable energy incentives\",\n",
    "            key_points=[\n",
    "                \"Current adoption rates\",\n",
    "                \"Economic benefits\",\n",
    "                \"Environmental impact\"\n",
    "            ],\n",
    "            target_audience=\"state legislators\"\n",
    "        )\n",
    "        \n",
    "        if brief:\n",
    "            print(\"\\n=== GENERATED POLICY BRIEF ===\")\n",
    "            print(brief)\n",
    "            \n",
    "            if policy_ai.save_archive():\n",
    "                print(\"\\nArchive saved successfully\")\n",
    "        else:\n",
    "            print(\"\\nFailed to generate policy brief\")\n",
    "            \n",
    "    except Exception as e:\n",
    "        print(f\"\\nApplication error: {str(e)}\")"
   ]
  },
  {
   "cell_type": "code",
   "execution_count": null,
   "metadata": {},
   "outputs": [],
   "source": [
    "if __name__ == \"__main__\":\n",
    "    main()"
   ]
  }
 ],
 "metadata": {
  "kernelspec": {
   "display_name": "base",
   "language": "python",
   "name": "python3"
  },
  "language_info": {
   "codemirror_mode": {
    "name": "ipython",
    "version": 3
   },
   "file_extension": ".py",
   "mimetype": "text/x-python",
   "name": "python",
   "nbconvert_exporter": "python",
   "pygments_lexer": "ipython3",
   "version": "3.12.4"
  }
 },
 "nbformat": 4,
 "nbformat_minor": 2
}
